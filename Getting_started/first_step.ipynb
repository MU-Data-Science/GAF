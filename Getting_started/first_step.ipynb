{
 "cells": [
  {
   "cell_type": "markdown",
   "id": "30e124de-1633-44c5-85e5-3873a3657a1f",
   "metadata": {},
   "source": [
    "# First fabric experiment\n",
    "\n",
    "Prerequisites: Create an account with the fabric testbed. Please follow all the instructions given in <code> configure_environment.ipynb</code> which can be easily located via <code> start_here.ipynb</code> inside the <code> fabric_example</code> folder. <code> configure_environment.ipynb</code> contains instructions about setting up the fabric environment."
   ]
  },
  {
   "cell_type": "markdown",
   "id": "e8148b92-9802-4c3c-82bd-02aec8def826",
   "metadata": {},
   "source": [
    "### Import the fabric library\n",
    "\n",
    "The fabric library contains functions that can be used to access all the underlying API. "
   ]
  },
  {
   "cell_type": "code",
   "execution_count": 3,
   "id": "a443e63f-4d36-4da1-8ab4-12d290902a23",
   "metadata": {},
   "outputs": [
    {
     "name": "stdout",
     "output_type": "stream",
     "text": [
      "-----------------------------------  --------------------------------------------------\n",
      "credmgr_host                         cm.fabric-testbed.net\n",
      "orchestrator_host                    orchestrator.fabric-testbed.net\n",
      "fabric_token                         /home/fabric/.tokens.json\n",
      "project_id                           68926660-da26-475d-9c40-50ebf0a5a812\n",
      "bastion_username                     mjdbz4_0000018266\n",
      "bastion_key_filename                 /home/fabric/work/fabric_config/fabric_bastion_key\n",
      "bastion_public_addr                  bastion-1.fabric-testbed.net\n",
      "bastion_passphrase                   None\n",
      "slice_public_key_file                /home/fabric/work/fabric_config/slice_key.pub\n",
      "slice_private_key_file               /home/fabric/work/fabric_config/slice_key\n",
      "fabric_slice_private_key_passphrase  None\n",
      "fablib_log_file                      /tmp/fablib/fablib.log\n",
      "fablib_log_level                     INFO\n",
      "-----------------------------------  --------------------------------------------------\n"
     ]
    }
   ],
   "source": [
    "from fabrictestbed_extensions.fablib.fablib import FablibManager as fablib_manager\n",
    "\n",
    "fablib= fablib_manager()\n",
    "\n",
    "# This function is not necessary but can be used to see the environment settings\n",
    "fablib.show_config()"
   ]
  },
  {
   "cell_type": "markdown",
   "id": "4061fa37-c82d-4940-88d1-fffd0bd1a325",
   "metadata": {},
   "source": [
    "### Finding Resources:\n",
    "\n",
    "To find available resources in the fabric testbed."
   ]
  },
  {
   "cell_type": "code",
   "execution_count": 5,
   "id": "6d1b0b7d-dcf6-43d3-8832-7b69de93fbb0",
   "metadata": {},
   "outputs": [
    {
     "name": "stdout",
     "output_type": "stream",
     "text": [
      "Name      CPUs  Cores    RAM (G)    Disk (G)       Basic (100 Gbps NIC)    ConnectX-6 (100 Gbps x2 NIC)    ConnectX-5 (25 Gbps x2 NIC)    P4510 (NVMe 1TB)    Tesla T4 (GPU)    RTX6000 (GPU)\n",
      "------  ------  -------  ---------  -------------  ----------------------  ------------------------------  -----------------------------  ------------------  ----------------  ---------------\n",
      "GPN         10  300/320  2520/2560  116300/116400  635/635                 2/2                             0/0                            16/16               4/4               6/6\n",
      "TACC        10  258/320  2332/2560  115420/116400  597/635                 2/2                             4/4                            16/16               4/4               5/6\n",
      "NCSA         6  174/192  1464/1536  60490/60600    378/381                 2/2                             2/2                            10/10               2/2               3/3\n",
      "STAR        12  352/384  2968/3072  121050/121200  755/762                 2/2                             6/6                            20/20               6/6               6/6\n",
      "UTAH        10  320/320  2560/2560  116400/116400  635/635                 2/2                             4/4                            16/16               4/4               5/5\n",
      "WASH         6  192/192  1536/1536  60600/60600    381/381                 2/2                             2/2                            10/10               2/2               3/3\n",
      "MAX         10  188/320  1912/2560  114128/116400  610/635                 2/2                             1/4                            16/16               4/4               0/6\n",
      "DALL         6  184/192  1504/1536  60538/60600    374/381                 2/2                             2/2                            10/10               2/2               3/3\n",
      "MASS         6  190/192  1528/1536  60590/60600    380/381                 2/2                             0/0                            10/10               2/2               3/3\n",
      "MICH         6  190/192  1528/1536  60590/60600    380/381                 2/2                             2/2                            10/10               2/2               3/3\n",
      "SALT         6  188/192  1520/1536  60580/60600    379/381                 2/2                             2/2                            10/10               2/2               3/3\n"
     ]
    }
   ],
   "source": [
    "try:\n",
    "    print(f\"{fablib.list_sites()}\")\n",
    "except Exception as e:\n",
    "    print(f\"Exception: {e}\")"
   ]
  },
  {
   "cell_type": "markdown",
   "id": "31dbc1f4-6705-4ff8-80af-9ba00fbd57d6",
   "metadata": {},
   "source": [
    "### Creating a slice\n",
    "\n",
    "A slice is a collection of compute resources stitched together to form some topology. In this experiment we will be creating a single node, with basic compute resources added to it. We can choose the resources from the table shown above (output of Finding Resources section). Experimenters usually get equal or more than the requested amount of compute resources."
   ]
  },
  {
   "cell_type": "code",
   "execution_count": 14,
   "id": "5a37824d-eaaa-46f9-812b-92d1bdbbf2a9",
   "metadata": {},
   "outputs": [],
   "source": [
    "# Naming the resources\n",
    "slice_name=\"First_slice\"\n",
    "node1_name=\"Node1\""
   ]
  },
  {
   "cell_type": "code",
   "execution_count": 15,
   "id": "aa2ce595-439a-49d4-a9fc-0cceb9b79fdd",
   "metadata": {},
   "outputs": [
    {
     "name": "stdout",
     "output_type": "stream",
     "text": [
      "\n",
      "-----------  ------------------------------------\n",
      "Slice Name   First_slice\n",
      "Slice ID     5a924cc7-96b4-46a9-baac-d998cc604644\n",
      "Slice State  StableOK\n",
      "Lease End    2022-10-11 15:34:54 +0000\n",
      "-----------  ------------------------------------\n",
      "\n",
      "Retry: 12, Time: 133 sec\n",
      "\n",
      "ID                                    Name    Site    Host                          Cores    RAM    Disk  Image              Management IP                           State    Error\n",
      "------------------------------------  ------  ------  --------------------------  -------  -----  ------  -----------------  --------------------------------------  -------  -------\n",
      "14f1c3a3-441e-45c3-abe2-be3c65d4387e  Node1   STAR    star-w2.fabric-testbed.net        4      8      10  default_ubuntu_20  2001:400:a100:3030:f816:3eff:fe3f:f58d  Active\n",
      "\n",
      "Time to stable 133 seconds\n",
      "Running post_boot_config ... Time to post boot config 135 seconds\n"
     ]
    }
   ],
   "source": [
    "try:\n",
    "    slice=fablib.new_slice(name=slice_name)\n",
    "    \n",
    "    node1=slice.add_node(name=node1_name,\n",
    "                         site='STAR', # name of the site, please see above table for other options.\n",
    "                         host='star-w2.fabric-testbed.net', # address of the STAR site worker\n",
    "                         cores=4, # number of cores\n",
    "                         ram=8, # amount of RAM\n",
    "                         disk=10, # Disk space\n",
    "                         image='default_ubuntu_20') # operation system type\n",
    "    slice.submit()\n",
    "except Exception as e:\n",
    "    print(f\"Exception: {e}\")"
   ]
  },
  {
   "cell_type": "markdown",
   "id": "e9fd5228-33e4-432a-b376-211fba5db447",
   "metadata": {},
   "source": [
    "### List Slice Attributes"
   ]
  },
  {
   "cell_type": "code",
   "execution_count": 16,
   "id": "b15eb8d7-4d69-4198-8342-558560fb42f8",
   "metadata": {},
   "outputs": [
    {
     "name": "stdout",
     "output_type": "stream",
     "text": [
      "-----------  ------------------------------------\n",
      "Slice Name   First_slice\n",
      "Slice ID     5a924cc7-96b4-46a9-baac-d998cc604644\n",
      "Slice State  StableOK\n",
      "Lease End    2022-10-11 15:34:54 +0000\n",
      "-----------  ------------------------------------\n"
     ]
    }
   ],
   "source": [
    "try:\n",
    "    print(f\"{slice}\")\n",
    "except Exception as e:\n",
    "    print(f\"Exception: {e}\")"
   ]
  },
  {
   "cell_type": "markdown",
   "id": "cc44b503-404b-4d74-85ef-8c57741cddd3",
   "metadata": {},
   "source": [
    "### List Node Attributes"
   ]
  },
  {
   "cell_type": "code",
   "execution_count": 17,
   "id": "8e479257-bb27-40be-9687-fab8503b559b",
   "metadata": {},
   "outputs": [
    {
     "name": "stdout",
     "output_type": "stream",
     "text": [
      "-----------------  ------------------------------------------------------------------------------------------------------------------------------------------------\n",
      "ID                 14f1c3a3-441e-45c3-abe2-be3c65d4387e\n",
      "Name               Node1\n",
      "Cores              4\n",
      "RAM                8\n",
      "Disk               10\n",
      "Image              default_ubuntu_20\n",
      "Image Type         qcow2\n",
      "Host               star-w2.fabric-testbed.net\n",
      "Site               STAR\n",
      "Management IP      2001:400:a100:3030:f816:3eff:fe3f:f58d\n",
      "Reservation State  Active\n",
      "Error Message\n",
      "SSH Command        ssh -i /home/fabric/work/fabric_config/slice_key -J mjdbz4_0000018266@bastion-1.fabric-testbed.net ubuntu@2001:400:a100:3030:f816:3eff:fe3f:f58d\n",
      "-----------------  ------------------------------------------------------------------------------------------------------------------------------------------------\n"
     ]
    }
   ],
   "source": [
    "try:\n",
    "    for node in slice.get_nodes():\n",
    "        print(f\"{node}\")\n",
    "except Exception as e:\n",
    "    print(f\"Exception: {e}\")"
   ]
  },
  {
   "cell_type": "markdown",
   "id": "bf4781e4-db0c-44f5-813c-dd43efd9e645",
   "metadata": {},
   "source": [
    "### Running a simple experiment\n",
    "\n",
    "A simple experiment to add two numbers."
   ]
  },
  {
   "cell_type": "code",
   "execution_count": 18,
   "id": "ecb087b9-5abe-448a-bcc2-3d62fc977023",
   "metadata": {},
   "outputs": [
    {
     "name": "stdout",
     "output_type": "stream",
     "text": [
      "2\n",
      "\n",
      "\n"
     ]
    }
   ],
   "source": [
    "try:\n",
    "    node=slice.get_node(name=node1_name)\n",
    "    stdout, stderr=node.execute(\"echo '1 + 1' | bc\")\n",
    "    \n",
    "    print(stdout)\n",
    "    print(stderr)\n",
    "    \n",
    "except Exception as e:\n",
    "    print(f\"Excetion: {e}\")"
   ]
  },
  {
   "cell_type": "markdown",
   "id": "16ef55c3-b37f-40c3-9eee-bab397180eb6",
   "metadata": {},
   "source": [
    "### Delete the slice\n",
    "\n",
    "Delete the slice after the experiment is over."
   ]
  },
  {
   "cell_type": "code",
   "execution_count": 13,
   "id": "c0f0b596-1f34-4abd-92ed-1af42fddebb5",
   "metadata": {},
   "outputs": [],
   "source": [
    "try:\n",
    "    slice=fablib.get_slice(name=slice_name)\n",
    "    slice.delete()\n",
    "except Exception as e:\n",
    "    print(f\"Exception: {e}\")"
   ]
  },
  {
   "cell_type": "code",
   "execution_count": null,
   "id": "0df7207e-4e17-41d7-80ff-f4ff5e569019",
   "metadata": {},
   "outputs": [],
   "source": []
  }
 ],
 "metadata": {
  "kernelspec": {
   "display_name": "Python 3 (ipykernel)",
   "language": "python",
   "name": "python3"
  },
  "language_info": {
   "codemirror_mode": {
    "name": "ipython",
    "version": 3
   },
   "file_extension": ".py",
   "mimetype": "text/x-python",
   "name": "python",
   "nbconvert_exporter": "python",
   "pygments_lexer": "ipython3",
   "version": "3.9.7"
  }
 },
 "nbformat": 4,
 "nbformat_minor": 5
}
