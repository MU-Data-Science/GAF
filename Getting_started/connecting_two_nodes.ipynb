{
 "cells": [
  {
   "cell_type": "markdown",
   "id": "076743a6-4a70-4fb1-ad7a-814855bb2349",
   "metadata": {},
   "source": [
    "# Creating a cluster of two nodes, connected to each other.\n",
    "\n",
    "This Notebook will give a gentle introduction to fabric testbed. This notebook aims to aggregate much of the knowledge already available.\n",
    "\n",
    "The objective of this notebook is:\n",
    "* Create a slice at a site.\n",
    "* Configuring(adding) two nodes in the slice.\n",
    "* Assigning IP address to the nodes.\n",
    "* Checking the accessibility of the nodes."
   ]
  },
  {
   "cell_type": "markdown",
   "id": "b76bdb8c-bd78-4d9a-84eb-b844613a6094",
   "metadata": {},
   "source": [
    "##### <i> This notebook assumes that you have a fabric environment already setup in fabric's JupyterHub. If not please go through the \"start_here.ipynb\" available in fabric's jupyterHub under jupyter-example folder. </i>"
   ]
  },
  {
   "cell_type": "code",
   "execution_count": null,
   "id": "c1e329e4-ca8d-4b52-bbbe-c36db16d144e",
   "metadata": {},
   "outputs": [],
   "source": [
    "# Importing the FABlib library\n",
    "\n",
    "from fabrictestbed_extensions.fablib.fablib import FablibManager as fablib_manager\n",
    "\n",
    "fablib = fablib_manager()\n",
    "\n",
    "fablib.show_config()"
   ]
  },
  {
   "cell_type": "markdown",
   "id": "d046c161-0b12-42a6-92c4-7a679d918f9d",
   "metadata": {},
   "source": [
    "### Listing all the availabe resources of fabric testbed. \n",
    "\n",
    "Fabric testbed uses multiple sites (location) where compute resources are hosted."
   ]
  },
  {
   "cell_type": "code",
   "execution_count": 2,
   "id": "73acee32-82e8-4619-b4fb-87ae5b9d684e",
   "metadata": {},
   "outputs": [
    {
     "name": "stdout",
     "output_type": "stream",
     "text": [
      "Name      CPUs  Cores    RAM (G)    Disk (G)       Basic (100 Gbps NIC)    ConnectX-6 (100 Gbps x2 NIC)    ConnectX-5 (25 Gbps x2 NIC)    P4510 (NVMe 1TB)    Tesla T4 (GPU)    RTX6000 (GPU)\n",
      "------  ------  -------  ---------  -------------  ----------------------  ------------------------------  -----------------------------  ------------------  ----------------  ---------------\n",
      "TACC        10  178/320  2004/2560  114930/116400  579/635                 0/2                             1/4                            16/16               4/4               2/6\n",
      "NCSA         6  172/192  1456/1536  60480/60600    378/381                 2/2                             2/2                            10/10               2/2               3/3\n",
      "STAR        12  280/384  2896/3072  120550/121200  744/762                 2/2                             6/6                            20/20               6/6               6/6\n",
      "UTAH        10  300/320  2520/2560  115900/116400  630/635                 2/2                             4/4                            16/16               4/4               5/5\n",
      "WASH         6  142/192  1376/1536  59416/60600    351/381                 2/2                             2/2                            10/10               2/2               3/3\n",
      "MAX         10  320/320  2560/2560  116400/116400  635/635                 2/2                             4/4                            16/16               4/4               6/6\n",
      "DALL         6  88/192   1408/1536  60028/60600    362/381                 2/2                             2/2                            10/10               2/2               3/3\n",
      "MASS         6  192/192  1536/1536  60600/60600    381/381                 2/2                             0/0                            10/10               2/2               3/3\n",
      "MICH         6  166/192  1480/1536  60080/60600    374/381                 2/2                             2/2                            10/10               2/2               3/3\n",
      "SALT         6  168/192  1488/1536  60090/60600    375/381                 2/2                             2/2                            10/10               2/2               3/3\n"
     ]
    }
   ],
   "source": [
    "try:\n",
    "    print(f\"{fablib.list_sites()}\")\n",
    "except Exception as e:\n",
    "    print(f\"Exception :{e}\")"
   ]
  },
  {
   "cell_type": "markdown",
   "id": "14305a64-d11c-413a-a0b8-a2d7373f622d",
   "metadata": {},
   "source": [
    "### List all the recources of a single site. "
   ]
  },
  {
   "cell_type": "code",
   "execution_count": 2,
   "id": "2c085b91-139b-44c5-979d-acc400251597",
   "metadata": {},
   "outputs": [
    {
     "name": "stdout",
     "output_type": "stream",
     "text": [
      "----------------------------  ----------------------------------------\n",
      "Name                          SALT\n",
      "CPUs                          6\n",
      "Cores ()                      168/192\n",
      "RAM (G)                       1488/1536\n",
      "Disk (G)                      60090/60600\n",
      "Worker Count                  3\n",
      "Physical Address              572 Delong St,Salt Lake City, UT  84104\n",
      "Location Coordinates          (40.75707505789612, -111.95346637770317)\n",
      "Basic (100 Gbps NIC)          375/381\n",
      "ConnectX-6 (100 Gbps x2 NIC)  2/2\n",
      "ConnectX-5 (25 Gbps x2 NIC)   2/2\n",
      "P4510 (NVMe 1TB)              10/10\n",
      "Tesla T4 (GPU)                2/2\n",
      "RTX6000 (GPU)                 3/3\n",
      "----------------------------  ----------------------------------------\n"
     ]
    }
   ],
   "source": [
    "# Use any other site name. Site name can be found from the 'Name' column, as shown above.\n",
    "\n",
    "site_name='SALT'\n",
    "try:\n",
    "    print(f\"{fablib.show_site(site_name)}\")\n",
    "except Exception as e:\n",
    "          print(f\"Exception: {e}\")"
   ]
  },
  {
   "cell_type": "markdown",
   "id": "8f9ea3f4-f619-46df-b495-228186dcb8a8",
   "metadata": {},
   "source": [
    "### Creating a slice.\n",
    "\n",
    "A slice usually means compute resources attached together to form some kind of topology. These compute resources can be computers, network cards, GPUs, FPGAs etc. There are many ways to create a slice for detailed knowledge please refer to \"create_slice.ipynb\" in jupyter-example folder.\n",
    "\n",
    "To create a slice with two nodes that are connected to each other in the same site. First name the components that will be used to create a slice."
   ]
  },
  {
   "cell_type": "code",
   "execution_count": 3,
   "id": "9ce317c8-3be4-4e7e-bdc0-c4efcb97036b",
   "metadata": {
    "tags": []
   },
   "outputs": [],
   "source": [
    "# name of the slice\n",
    "slice_name='two_node_exp'\n",
    "\n",
    "# name of the two nodes\n",
    "node1_name='Node1'\n",
    "node2_name='Node2'\n",
    "\n",
    "# One NIC per node to interface with the other node\n",
    "node1_nic='nic1'\n",
    "node2_nic='nic2'\n",
    "\n",
    "# The name of the network created by connecting the NIC\n",
    "network_name='net1'"
   ]
  },
  {
   "cell_type": "markdown",
   "id": "0f2f147d-b903-4876-ac60-18bfb95a9bf5",
   "metadata": {},
   "source": [
    "### Selecting a Operating System (OS).\n",
    "\n",
    "Many OS options are there to use in fabric, the list of currently available OS types can be found by running the following code."
   ]
  },
  {
   "cell_type": "code",
   "execution_count": 4,
   "id": "7aa1bcd9-6871-4c79-88a4-30eeb0eb89c7",
   "metadata": {},
   "outputs": [
    {
     "name": "stdout",
     "output_type": "stream",
     "text": [
      "['default_centos8_stream', 'default_centos9_stream', 'default_centos_7', 'default_centos_8', 'default_cirros', 'default_debian_10', 'default_fedora_35', 'default_freebsd_13_zfs', 'default_openbsd_7', 'default_rocky_8', 'default_ubuntu_18', 'default_ubuntu_20', 'default_ubuntu_21', 'default_ubuntu_22']\n"
     ]
    }
   ],
   "source": [
    "try:\n",
    "    print(f\"{fablib.get_image_names()}\")\n",
    "except Exception as e:\n",
    "    print(f\"Exception: {e}\")"
   ]
  },
  {
   "cell_type": "markdown",
   "id": "ef3e9b47-e131-431a-b560-dc8da5fa24e9",
   "metadata": {},
   "source": [
    "### Instantiate the slice"
   ]
  },
  {
   "cell_type": "code",
   "execution_count": 5,
   "id": "66398c5c-593a-4ca3-b6a4-471b30092932",
   "metadata": {},
   "outputs": [
    {
     "name": "stdout",
     "output_type": "stream",
     "text": [
      "\n",
      "-----------  ------------------------------------\n",
      "Slice Name   two_node_exp\n",
      "Slice ID     bc7b16c9-2e11-436a-aadd-c4931cf3cb91\n",
      "Slice State  StableOK\n",
      "Lease End    2022-10-03 00:34:07 +0000\n",
      "-----------  ------------------------------------\n",
      "\n",
      "Retry: 13, Time: 157 sec\n",
      "\n",
      "ID                                    Name    Site    Host                          Cores    RAM    Disk  Image              Management IP                           State    Error\n",
      "------------------------------------  ------  ------  --------------------------  -------  -----  ------  -----------------  --------------------------------------  -------  -------\n",
      "7b868a57-cf55-4e21-b4e3-0512e41c7227  Node1   STAR    star-w2.fabric-testbed.net        8     16     100  default_ubuntu_20  2001:400:a100:3030:f816:3eff:fec8:7491  Active\n",
      "533ea3ac-23c7-4f03-9829-2d5bd5ae6390  Node2   STAR    star-w2.fabric-testbed.net        8     16      10  default_ubuntu_20  2001:400:a100:3030:f816:3eff:feb9:2d3a  Active\n",
      "\n",
      "Time to stable 157 seconds\n",
      "Running post_boot_config ... Time to post boot config 169 seconds\n",
      "\n",
      "Name           Node    Network      Bandwidth  VLAN    MAC                Physical OS Interface    OS Interface\n",
      "-------------  ------  ---------  -----------  ------  -----------------  -----------------------  --------------\n",
      "Node1-nic1-p1  Node1   net1                 0          0A:07:62:7E:09:E1  ens7                     ens7\n",
      "Node2-nic2-p1  Node2   net1                 0          0A:28:B5:6D:ED:AC  ens7                     ens7\n",
      "\n",
      "Time to print interfaces 178 seconds\n"
     ]
    }
   ],
   "source": [
    "try:        \n",
    "    # create a slice object.\n",
    "    slice=fablib.new_slice(name=slice_name)\n",
    "    \n",
    "    # creating node-1 and connecting a NIC card to it as an interface\n",
    "    node1=slice.add_node(name=node1_name, # Name of the node\n",
    "                         site='STAR', # select a site\n",
    "                         host='star-w2.fabric-testbed.net', # site address\n",
    "                         cores=8, \n",
    "                         ram=16,\n",
    "                         disk=50,\n",
    "                         image='default_ubuntu_20') # os type\n",
    "    iface1=node1.add_component(model='NIC_Basic',name=node1_nic).get_interfaces()[0] # adding a basic NIC card to the node.\n",
    "    \n",
    "    # creating node-2 and connecting a NIC card to it as an interface. Using a slightly different approach to create a node\n",
    "    \n",
    "    node2=slice.add_node(name=node2_name,\n",
    "                         site='STAR',\n",
    "                         instance_type='fabric.c8.m16.d10', # here c8 means 8 cores, m16 means 16GB of RAM, d50 means 10GB hard drive. \n",
    "                         image='default_ubuntu_20') \n",
    "    iface2=node2.add_component(model='NIC_Basic',name=node2_nic).get_interfaces()[0]\n",
    "    \n",
    "    # To connect both the NIC interfaces to form a network\n",
    "    net1=slice.add_l2network(name=network_name, interfaces=[iface1, iface2])\n",
    "    \n",
    "    # submit the slice, There are namy ways to submit a slice, please read \"create_slice.ipynb\" in fabric-example folder.\n",
    "    \n",
    "    slice.submit()\n",
    "    \n",
    "except Exception as e:\n",
    "    print(f\"Exception: {e}\")"
   ]
  },
  {
   "attachments": {
    "27d9fc83-fa81-4dc1-bb0a-5fd335537002.png": {
     "image/png": "[encoded data removed]"
    }
   },
   "cell_type": "markdown",
   "id": "2ba02b54-5f39-41f8-9ec1-51f1ab1a9594",
   "metadata": {},
   "source": [
    "## The slice created has the following topology:\n",
    "\n",
    "The created slice topology can be found in the \"Experiments\" -> \"My Slices\" tab at fabric portal.    \n",
    "\n",
    "![image.png](attachment:27d9fc83-fa81-4dc1-bb0a-5fd335537002.png)"
   ]
  },
  {
   "cell_type": "markdown",
   "id": "c4da3279-91f5-4e76-95dc-3900c297a6c2",
   "metadata": {},
   "source": [
    "### Note:\n",
    "Two methods are shown above to allocate resources to a node. For the first method, the value of <code>host</code> depends on the site you are choosing. If suppose it is TACC then it will be <code> host='TACC-w2.fabric-testbed.net'</code> \n",
    "\n",
    "For the second method <code>instance_type</code> is used, which accepts strings of predefined configuration. A list of predefined configuration can be found [here](https://github.com/fabric-testbed/InformationModel/blob/master/fim/slivers/data/instance_sizes.json)\n",
    "\n",
    "During the submission of the slice it may take a few minutes in the average case scenario. Also note that because of load and other technical difficulties in fabric testbed it may not go through sometimes. "
   ]
  },
  {
   "cell_type": "markdown",
   "id": "82aa1b18-8150-4b64-8f2c-4720ea10c169",
   "metadata": {},
   "source": [
    "### Checking slice status\n",
    "\n",
    "To check the current status of the slice. That is whether a slice is stableOK or configuring/deleting/etc. It also help in finding out the slice end time (or Lease End time)"
   ]
  },
  {
   "cell_type": "code",
   "execution_count": 6,
   "id": "fc491018-5f3d-462d-9a92-03f4cdd4d140",
   "metadata": {},
   "outputs": [
    {
     "name": "stdout",
     "output_type": "stream",
     "text": [
      "-----------  ------------------------------------\n",
      "Slice Name   two_node_exp\n",
      "Slice ID     bc7b16c9-2e11-436a-aadd-c4931cf3cb91\n",
      "Slice State  StableOK\n",
      "Lease End    2022-10-03 00:34:07 +0000\n",
      "-----------  ------------------------------------\n"
     ]
    }
   ],
   "source": [
    "try:\n",
    "    slice = fablib.get_slice(name=slice_name)\n",
    "    print(f\"{slice}\")\n",
    "except Exception as e:\n",
    "    print(f\"Exception: {e}\")"
   ]
  },
  {
   "cell_type": "markdown",
   "id": "ef54898e-3d29-4c69-90d8-1f44c297ba7e",
   "metadata": {},
   "source": [
    "### To list the properties of the nodes in the slice.\n"
   ]
  },
  {
   "cell_type": "code",
   "execution_count": 7,
   "id": "bde85d9f-459f-444d-b304-5b31bcd31601",
   "metadata": {},
   "outputs": [
    {
     "name": "stdout",
     "output_type": "stream",
     "text": [
      "-----------------  ------------------------------------------------------------------------------------------------------------------------------------------------\n",
      "ID                 7b868a57-cf55-4e21-b4e3-0512e41c7227\n",
      "Name               Node1\n",
      "Cores              8\n",
      "RAM                16\n",
      "Disk               100\n",
      "Image              default_ubuntu_20\n",
      "Image Type         qcow2\n",
      "Host               star-w2.fabric-testbed.net\n",
      "Site               STAR\n",
      "Management IP      2001:400:a100:3030:f816:3eff:fec8:7491\n",
      "Reservation State  Active\n",
      "Error Message\n",
      "SSH Command        ssh -i /home/fabric/work/fabric_config/slice_key -J mjdbz4_0000018266@bastion-1.fabric-testbed.net ubuntu@2001:400:a100:3030:f816:3eff:fec8:7491\n",
      "-----------------  ------------------------------------------------------------------------------------------------------------------------------------------------\n",
      "-----------------  ------------------------------------------------------------------------------------------------------------------------------------------------\n",
      "ID                 533ea3ac-23c7-4f03-9829-2d5bd5ae6390\n",
      "Name               Node2\n",
      "Cores              8\n",
      "RAM                16\n",
      "Disk               10\n",
      "Image              default_ubuntu_20\n",
      "Image Type         qcow2\n",
      "Host               star-w2.fabric-testbed.net\n",
      "Site               STAR\n",
      "Management IP      2001:400:a100:3030:f816:3eff:feb9:2d3a\n",
      "Reservation State  Active\n",
      "Error Message\n",
      "SSH Command        ssh -i /home/fabric/work/fabric_config/slice_key -J mjdbz4_0000018266@bastion-1.fabric-testbed.net ubuntu@2001:400:a100:3030:f816:3eff:feb9:2d3a\n",
      "-----------------  ------------------------------------------------------------------------------------------------------------------------------------------------\n"
     ]
    }
   ],
   "source": [
    "try:\n",
    "    for node in slice.get_nodes():\n",
    "        print(f\"{node}\")\n",
    "except Exception as e:\n",
    "    print(f\"Exception: {e}\")"
   ]
  },
  {
   "cell_type": "code",
   "execution_count": 8,
   "id": "21fa8ad8-3337-448d-ae88-d57faab64f7f",
   "metadata": {},
   "outputs": [
    {
     "name": "stdout",
     "output_type": "stream",
     "text": [
      "ID                                    Name    Site    Host                          Cores    RAM    Disk  Image              Management IP                           State    Error\n",
      "------------------------------------  ------  ------  --------------------------  -------  -----  ------  -----------------  --------------------------------------  -------  -------\n",
      "7b868a57-cf55-4e21-b4e3-0512e41c7227  Node1   STAR    star-w2.fabric-testbed.net        8     16     100  default_ubuntu_20  2001:400:a100:3030:f816:3eff:fec8:7491  Active\n",
      "533ea3ac-23c7-4f03-9829-2d5bd5ae6390  Node2   STAR    star-w2.fabric-testbed.net        8     16      10  default_ubuntu_20  2001:400:a100:3030:f816:3eff:feb9:2d3a  Active\n"
     ]
    }
   ],
   "source": [
    "# Instead of a full blown list you can list all the nodes in a compact table.\n",
    "try:\n",
    "    slice = fablib.get_slice(name=slice_name)\n",
    "\n",
    "    print(f\"{slice.list_nodes()}\")\n",
    "except Exception as e:\n",
    "    print(f\"Exception: {e}\")"
   ]
  },
  {
   "cell_type": "code",
   "execution_count": 33,
   "id": "b02f02b1-2c0a-4b36-9c6e-e10396f6452d",
   "metadata": {},
   "outputs": [
    {
     "name": "stdout",
     "output_type": "stream",
     "text": [
      "Name           Node    Network      Bandwidth  VLAN    MAC                Physical OS Interface    OS Interface\n",
      "-------------  ------  ---------  -----------  ------  -----------------  -----------------------  --------------\n",
      "Node1-nic1-p1  Node1   net1                 0          0A:07:62:7E:09:E1  ens7                     ens7\n",
      "Node2-nic2-p1  Node2   net1                 0          0A:28:B5:6D:ED:AC  ens7                     ens7\n"
     ]
    }
   ],
   "source": [
    "# To find the properties of the network interface \n",
    "try:\n",
    "    slice = fablib.get_slice(name=slice_name)\n",
    "    \n",
    "    print(f\"{slice.list_interfaces()}\")\n",
    "except Exception as e:\n",
    "    print(f\"Exception: {e}\")"
   ]
  },
  {
   "cell_type": "markdown",
   "id": "bdcb4183-0854-4198-bb03-18d2fe4728a4",
   "metadata": {},
   "source": [
    "### Configuring the Network\n",
    "\n",
    "At first pick a subnet. The subnet can be IPv4 or IPv6. Below IPv4 is used."
   ]
  },
  {
   "cell_type": "code",
   "execution_count": 10,
   "id": "002c20a5-6534-4756-91c0-29b42a676d3f",
   "metadata": {},
   "outputs": [],
   "source": [
    "from ipaddress import IPv4Address, IPv4Network\n",
    "\n",
    "try:\n",
    "    subnet=IPv4Network(\"192.168.1.0/24\")\n",
    "    available_ips=list(subnet)[1:]\n",
    "except Exception as e:\n",
    "    print(f\"Exception: {e}\")"
   ]
  },
  {
   "cell_type": "markdown",
   "id": "2ab3a8e6-9e99-4558-86aa-ea40aeee4c1a",
   "metadata": {},
   "source": [
    "### Assigning IP address to a network interface of a node\n",
    "\n",
    "A network is created between node1 and node2, the assigned name of the network is 'net1'. This name is given at the time of slice creation, please look at the section \"creating a slice\" above. So, 'net1' is a network created between two NIC interfaces of the two nodes. IP addresses need to be assigned to these interfaces. There may be more than one NIC on a node for a certain type of experiment, assigning IP to the correct interface is important. In this experiment only one NIC is assigned to a node."
   ]
  },
  {
   "cell_type": "code",
   "execution_count": 11,
   "id": "f0a1fbab-b69d-4679-92c0-c3daa6230220",
   "metadata": {},
   "outputs": [
    {
     "name": "stdout",
     "output_type": "stream",
     "text": [
      "3: ens7: <BROADCAST,MULTICAST,UP,LOWER_UP> mtu 1500 qdisc mq state UP group default qlen 1000\n",
      "    link/ether 0a:07:62:7e:09:e1 brd ff:ff:ff:ff:ff:ff\n",
      "    inet 192.168.1.1/24 scope global ens7\n",
      "       valid_lft forever preferred_lft forever\n",
      "    inet6 fe80::807:62ff:fe7e:9e1/64 scope link \n",
      "       valid_lft forever preferred_lft forever\n",
      "\n"
     ]
    }
   ],
   "source": [
    "#Configuring Node1\n",
    "\n",
    "try:\n",
    "    node1=slice.get_node(name=node1_name)\n",
    "    node1_iface=node1.get_interface(network_name=network_name)\n",
    "    node1_IP_addr=available_ips.pop(0)\n",
    "    node1_iface.ip_addr_add(addr=node1_IP_addr, subnet=subnet)\n",
    "    \n",
    "    stdout,stderr=node1.execute(f\"ip addr show {node1_iface.get_os_interface()}\")\n",
    "    print(stdout)\n",
    "    \n",
    "except Exception as e:\n",
    "    print(f\"Exception: {e}\")"
   ]
  },
  {
   "cell_type": "code",
   "execution_count": 12,
   "id": "73642427-fdd4-4b08-848a-832f4d35bdd6",
   "metadata": {},
   "outputs": [
    {
     "name": "stdout",
     "output_type": "stream",
     "text": [
      "3: ens7: <BROADCAST,MULTICAST,UP,LOWER_UP> mtu 1500 qdisc mq state UP group default qlen 1000\n",
      "    link/ether 0a:28:b5:6d:ed:ac brd ff:ff:ff:ff:ff:ff\n",
      "    inet 192.168.1.2/24 scope global ens7\n",
      "       valid_lft forever preferred_lft forever\n",
      "    inet6 fe80::828:b5ff:fe6d:edac/64 scope link \n",
      "       valid_lft forever preferred_lft forever\n",
      "\n"
     ]
    }
   ],
   "source": [
    "# Configuring Node2, Both Node1 and Node2 can be configure as a for loop also.\n",
    "\n",
    "try:\n",
    "    node2=slice.get_node(name=node2_name)\n",
    "    node2_iface=node2.get_interface(network_name=network_name)\n",
    "    node2_IP_addr=available_ips.pop(0)\n",
    "    node2_iface.ip_addr_add(addr=node2_IP_addr, subnet=subnet)\n",
    "    \n",
    "    stdout, stderr=node2.execute(f\"ip addr show {node2_iface.get_os_interface()}\")\n",
    "    print(stdout)\n",
    "    \n",
    "except Exception as e:\n",
    "    print(f\"Exception: {e}\")"
   ]
  },
  {
   "cell_type": "markdown",
   "id": "1150ec29-931b-4d54-a624-65f03285d7c7",
   "metadata": {},
   "source": [
    "### Checking the accessibility of one node to another.\n",
    "\n",
    "A simple way to check whether a node is accessible is to ping it. "
   ]
  },
  {
   "cell_type": "code",
   "execution_count": 17,
   "id": "f659e4a0-b3e3-4cc8-9d59-71f9c594dd12",
   "metadata": {},
   "outputs": [
    {
     "name": "stdout",
     "output_type": "stream",
     "text": [
      "PING 192.168.1.2 (192.168.1.2) 56(84) bytes of data.\n",
      "64 bytes from 192.168.1.2: icmp_seq=1 ttl=64 time=0.117 ms\n",
      "64 bytes from 192.168.1.2: icmp_seq=2 ttl=64 time=0.086 ms\n",
      "64 bytes from 192.168.1.2: icmp_seq=3 ttl=64 time=0.079 ms\n",
      "\n",
      "--- 192.168.1.2 ping statistics ---\n",
      "3 packets transmitted, 3 received, 0% packet loss, time 2031ms\n",
      "rtt min/avg/max/mdev = 0.079/0.094/0.117/0.016 ms\n",
      "\n",
      "\n"
     ]
    }
   ],
   "source": [
    "try:\n",
    "    node1=slice.get_node(name=node1_name)\n",
    "    \n",
    "    stdout,stderr=node1.execute(f' ping -c 3 {node2_IP_addr}')\n",
    "    print(stdout)\n",
    "    print(stderr)\n",
    "    \n",
    "except Exception as e:\n",
    "    print(f'Exception: {e}')    "
   ]
  },
  {
   "cell_type": "markdown",
   "id": "4d7fe40d-e0ac-4227-9df0-fb8ecd1a71a5",
   "metadata": {},
   "source": [
    "### Deleting the node\n",
    "\n",
    "It is important to delete the slice when the experiment is over. This is good practice."
   ]
  },
  {
   "cell_type": "code",
   "execution_count": null,
   "id": "5cfe7d49-f25c-438c-a59c-c26b313fe882",
   "metadata": {},
   "outputs": [],
   "source": [
    "try:\n",
    "    slice=fablib.get_slice(name=slice_name)\n",
    "    slice.delete()\n",
    "except Exception as e:\n",
    "    print(f\"Exception: {e}\")"
   ]
  }
 ],
 "metadata": {
  "kernelspec": {
   "display_name": "Python 3 (ipykernel)",
   "language": "python",
   "name": "python3"
  },
  "language_info": {
   "codemirror_mode": {
    "name": "ipython",
    "version": 3
   },
   "file_extension": ".py",
   "mimetype": "text/x-python",
   "name": "python",
   "nbconvert_exporter": "python",
   "pygments_lexer": "ipython3",
   "version": "3.9.7"
  }
 },
 "nbformat": 4,
 "nbformat_minor": 5
}
