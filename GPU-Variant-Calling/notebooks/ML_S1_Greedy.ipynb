{
 "cells": [
  {
   "cell_type": "code",
   "execution_count": 1,
   "metadata": {},
   "outputs": [],
   "source": [
    "import pandas as pd\n",
    "import numpy as np\n",
    "import time\n",
    "data=pd.read_csv('input.csv',sep=',')\n",
    "data.head()\n",
    "machines = ['m1','m2','m3','m4','m5']\n",
    "#convert into dictionary with first column as key and rest as values\n",
    "# data_dict = data.set_index('Run').T.to_dict('list')\n",
    "# jobs=data_dict\n",
    "# del data, data_dict"
   ]
  },
  {
   "cell_type": "code",
   "execution_count": 19,
   "metadata": {},
   "outputs": [],
   "source": [
    "\n",
    "# # Example usage - give data here\n",
    "# jobs = { # Machines: M1, M2, M3\n",
    "#     'ERR016294': [9, 9, 10], #j1\n",
    "#     'ERR016314': [6,10,9], #j2\n",
    "#     'ERR016316': [11,7,12], #j3\n",
    "# }  # Example job durations\n",
    "# machines = ['m1', 'm2', 'm3']  # Example machines"
   ]
  },
  {
   "cell_type": "markdown",
   "metadata": {},
   "source": [
    "##  Gredy Strategy for Plan Generation"
   ]
  },
  {
   "cell_type": "code",
   "execution_count": 22,
   "metadata": {},
   "outputs": [],
   "source": [
    "import pandas as pd\n",
    "\n",
    "# Read the data\n",
    "data = pd.read_csv('input.csv', sep=',')\n",
    "jobs = data.set_index('Run').T.to_dict('list')\n",
    "machines = ['M1', 'M2', 'M3', 'M4', 'M5']\n",
    "\n",
    "def greedy_schedule(jobs, machines):\n",
    "    execution_plan = {machine: [('BEGIN', 0)] for machine in machines}\n",
    "    execution_time = {machine: 0 for machine in machines}\n",
    "    execution_order = []\n",
    "    J = list(jobs.keys())\n",
    "    while J:\n",
    "        T = []\n",
    "        for job in J:\n",
    "            for i, time in enumerate(jobs[job]):\n",
    "                T.append((job, machines[i], time))\n",
    "        J_alpha, m_beta, w = min(T, key=lambda x: (execution_time[x[1]], x[2]))\n",
    "        execution_plan[m_beta].append((f'EXEC {J_alpha}', w))\n",
    "        execution_time[m_beta] += w\n",
    "        execution_order.append((J_alpha, m_beta, w))\n",
    "        J.remove(J_alpha)\n",
    "    for machine in machines:\n",
    "        execution_plan[machine].append(('END', 0))\n",
    "        # print(execution_plan[machine])\n",
    "    return execution_plan, execution_time, execution_order\n",
    "\n",
    "execution_plan, execution_time, execution_order = greedy_schedule(jobs, machines)\n"
   ]
  },
  {
   "cell_type": "code",
   "execution_count": 23,
   "metadata": {},
   "outputs": [
    {
     "name": "stdout",
     "output_type": "stream",
     "text": [
      "M1: BEGIN (0 units), EXEC ERR062966 (716 units), EXEC ERR016338 (935 units), EXEC ERR016327 (1235 units), EXEC ERR020276 (1244 units), END (0 units)\n",
      "M2: BEGIN (0 units), EXEC ERR062953 (1059 units), EXEC SRR794387 (1516 units), EXEC ERR020241 (4521 units), END (0 units)\n",
      "M3: BEGIN (0 units), EXEC SRR799760 (420 units), EXEC ERR016326 (601 units), EXEC ERR019897 (757 units), EXEC ERR018416 (2193 units), END (0 units)\n",
      "M4: BEGIN (0 units), EXEC ERR068392 (579 units), EXEC ERR019492 (667 units), EXEC ERR020289 (763 units), EXEC ERR020264 (2457 units), END (0 units)\n",
      "M5: BEGIN (0 units), EXEC ERR062940 (812 units), EXEC ERR018544 (858 units), EXEC ERR022463 (1629 units), END (0 units)\n",
      "\n",
      "Execution times:\n",
      "M1: 4130 units\n",
      "M2: 7096 units\n",
      "M3: 3971 units\n",
      "M4: 4466 units\n",
      "M5: 3299 units\n",
      "\n",
      "Execution order:\n",
      "SRR799760 executed on M3 for 420 units\n",
      "ERR068392 executed on M4 for 579 units\n",
      "ERR062966 executed on M1 for 716 units\n",
      "ERR062940 executed on M5 for 812 units\n",
      "ERR062953 executed on M2 for 1059 units\n",
      "ERR016326 executed on M3 for 601 units\n",
      "ERR019492 executed on M4 for 667 units\n",
      "ERR016338 executed on M1 for 935 units\n",
      "ERR018544 executed on M5 for 858 units\n",
      "ERR019897 executed on M3 for 757 units\n",
      "SRR794387 executed on M2 for 1516 units\n",
      "ERR020289 executed on M4 for 763 units\n",
      "ERR016327 executed on M1 for 1235 units\n",
      "ERR022463 executed on M5 for 1629 units\n",
      "ERR018416 executed on M3 for 2193 units\n",
      "ERR020264 executed on M4 for 2457 units\n",
      "ERR020241 executed on M2 for 4521 units\n",
      "ERR020276 executed on M1 for 1244 units\n",
      "Execution plans have been written to files.\n"
     ]
    }
   ],
   "source": [
    "# Print the results\n",
    "for machine, plan in execution_plan.items():\n",
    "    print(f\"{machine}: {', '.join([f'{task} ({time} units)' for task, time in plan])}\")\n",
    "print(\"\\nExecution times:\")\n",
    "for machine, time in execution_time.items():\n",
    "    print(f\"{machine}: {time} units\")\n",
    "print(\"\\nExecution order:\")\n",
    "for job, machine, time in execution_order:\n",
    "    print(f\"{job} executed on {machine} for {time} units\")\n",
    "    \n",
    "# Write the results to files\n",
    "for machine, plan in execution_plan.items():\n",
    "    with open(f'script_{machine}.txt', 'w') as file:\n",
    "        for task, _ in plan:\n",
    "            file.write(f\"{task}\\n\")\n",
    "\n",
    "print(\"Execution plans have been written to files.\")"
   ]
  },
  {
   "cell_type": "markdown",
   "metadata": {},
   "source": [
    "## Calculating Actual for Predicted"
   ]
  },
  {
   "cell_type": "code",
   "execution_count": null,
   "metadata": {},
   "outputs": [],
   "source": [
    "\n",
    "# # create a dataframe with duration, machine and job name for above\n",
    "# df = pd.DataFrame([(job, machine, duration) for machine, durations in execution_plan.items() for job, duration in zip(job_allocation[machine], durations)], columns=['Job', 'Machine', 'Predicted Duration'])\n",
    "# # print(df)actual=pd.read_csv('greedy_actual_S1.csv',sep='\\t');actual.set_index(\"Unnamed: 0\", inplace=True)\n",
    "# output=df\n",
    "# import warnings\n",
    "# warnings.filterwarnings(\"ignore\")\n",
    "# output[\"Machine\"].replace(\"m1\", \"1T4GPU (M0)\",inplace=True)\n",
    "# output[\"Machine\"].replace(\"m2\", \"2T4GPU (M1)\",inplace=True)\n",
    "# output[\"Machine\"].replace(\"m3\", \"1RTX GPU (M2)\",inplace=True)\n",
    "# output[\"Machine\"].replace(\"m4\", \"2RTX GPU (M3)\",inplace=True)\n",
    "# output[\"Machine\"].replace(\"m5\", \"3RTX GPU (M4)\",inplace=True)\n",
    "# # add a column in output \n",
    "# output[\"Actual Duration\"] = 0\n",
    "# for i in range(len(output)):\n",
    "#     output[\"Actual Duration\"][i] = actual.loc[output[\"Job\"][i], output[\"Machine\"][i]]\n",
    "# output.columns = [\"Job\", \"Predicted Machine\", \"Predicted Duration\", \"Actual Duration\"]\n",
    "# output\n",
    "## group by Machine and sum Duration and Actual Duration\n",
    "# grouped = df.groupby('Predicted Machine').agg({\n",
    "#     'Predicted Duration': 'sum',\n",
    "#     'Actual Duration': 'sum'\n",
    "# }).reset_index()\n",
    "\n",
    "# # Rename columns for clarity\n",
    "# grouped.columns = ['Machine', 'Predicted (Sum)', 'Actual Duration (Sum)']\n",
    "\n",
    "# # Display the result\n",
    "# print(grouped)"
   ]
  },
  {
   "cell_type": "markdown",
   "metadata": {},
   "source": [
    "## Plan Execution\n"
   ]
  },
  {
   "cell_type": "code",
   "execution_count": null,
   "metadata": {},
   "outputs": [],
   "source": [
    "# Input ei - Execution plan for machine mi\n",
    "# Output: Gives execution schedule for VMs and Executes the schedule on machines\n",
    "import subprocess\n",
    "execution_plan, job_allocation = greedy_schedule(jobs, machines)\n",
    "start= time.time() \n",
    "# pushing job on machine \n",
    "vms = ['vm1', 'vm2', 'vm3', 'vm4', 'vm5']\n",
    "for i in range(len(machines)):\n",
    "    # subprocess.run([\"ssh\", vms[i+1], \"touch\", \"script.txt\"])\n",
    "    # append this script.txt file with job_allocation[machines[i]]\n",
    "    ei = job_allocation[machines[i]]\n",
    "    with open(\"script_{}.txt\".format(machines[i]), \"w\") as f:\n",
    "        f.write(\"BEGIN\\n\")\n",
    "        for j in ei:\n",
    "            f.write(\"EXEC \" + j + \"\\n\")\n",
    "        f.write(\"END\\n\")\n",
    "    # ssh vm1 script.txt >> ei\n",
    "print(\"Copied scheduling plan on all machines\")\n",
    "print(\"Starting job execution on all machines\")\n",
    "for i in range(len(machines)):\n",
    "    # ssh vm1 python3 script.py\n",
    "    print(f\"Jobs on Machine {machines[i]}: {job_allocation[machines[i]]}\")\n",
    "end = time.time()\n",
    "print(\"Time taken for greedy schedlule workload is: \", round(end-start,3))"
   ]
  }
 ],
 "metadata": {
  "kernelspec": {
   "display_name": "Python 3",
   "language": "python",
   "name": "python3"
  },
  "language_info": {
   "codemirror_mode": {
    "name": "ipython",
    "version": 3
   },
   "file_extension": ".py",
   "mimetype": "text/x-python",
   "name": "python",
   "nbconvert_exporter": "python",
   "pygments_lexer": "ipython3",
   "version": "3.9.6"
  }
 },
 "nbformat": 4,
 "nbformat_minor": 2
}
