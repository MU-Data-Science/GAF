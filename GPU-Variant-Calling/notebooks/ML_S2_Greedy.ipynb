{
 "cells": [
  {
   "cell_type": "code",
   "execution_count": 25,
   "metadata": {},
   "outputs": [],
   "source": [
    "import pandas as pd\n",
    "import numpy as np\n",
    "import time\n",
    "data=pd.read_csv('input.csv',sep=',')\n",
    "data.head()\n",
    "machines = ['m1','m2','m3','m4','m5']\n",
    "#convert into dictionary with first column as key and rest as values\n",
    "data_dict = data.set_index('Run').T.to_dict('list')\n",
    "jobs=data_dict\n",
    "del data, data_dict"
   ]
  },
  {
   "cell_type": "code",
   "execution_count": 14,
   "metadata": {},
   "outputs": [],
   "source": [
    "\n",
    "# # Example usage - give data here\n",
    "# jobs = { # Machines: M1, M2, M3\n",
    "#     'ERR016294': [9, 9, 10], #j1\n",
    "#     'ERR016314': [6,10,9], #j2\n",
    "#     'ERR016316': [11,7,12], #j3\n",
    "# }  # Example job durations\n",
    "# machines = ['m1', 'm2', 'm3']  # Example machines"
   ]
  },
  {
   "cell_type": "markdown",
   "metadata": {},
   "source": [
    "##  Gredy Strategy for Plan Generation"
   ]
  },
  {
   "cell_type": "code",
   "execution_count": 37,
   "metadata": {},
   "outputs": [
    {
     "name": "stdout",
     "output_type": "stream",
     "text": [
      "ERR062966\n",
      "m1\n",
      "ERR062940\n",
      "m2\n",
      "ERR062953\n",
      "m3\n",
      "ERR019492\n",
      "m4\n",
      "ERR016338\n",
      "m5\n",
      "ERR016327\n",
      "m3\n",
      "SRR794387\n",
      "m4\n",
      "ERR022463\n",
      "m1\n",
      "ERR020276\n",
      "m5\n",
      "ERR020241\n",
      "m2\n",
      "{'m1': [716, 1539], 'm2': [1059, 4521], 'm3': [662, 771], 'm4': [667, 842], 'm5': [875, 3789]}\n",
      "{'m1': ['ERR062966', 'ERR022463'], 'm2': ['ERR062940', 'ERR020241'], 'm3': ['ERR062953', 'ERR016327'], 'm4': ['ERR019492', 'SRR794387'], 'm5': ['ERR016338', 'ERR020276']}\n",
      "5580\n"
     ]
    }
   ],
   "source": [
    "def greedy_schedule(jobs, machines):\n",
    "    execution_plan = {machine: [] for machine in machines}\n",
    "    job_allocation = {machine: [] for machine in machines}\n",
    "    J = list(jobs.keys())\n",
    "    M = list(machines)\n",
    "    while J: \n",
    "        for j in range(1,len(M)+1):\n",
    "            shortest_job = min(J, key=lambda job: min(jobs[job]))\n",
    "            print(shortest_job)\n",
    "            shortest_machine = min(M, key=lambda machine: sum(execution_plan[machine]))\n",
    "            print(shortest_machine)\n",
    "            execution_plan[shortest_machine].append(jobs[shortest_job][machines.index(shortest_machine)])\n",
    "            job_allocation[shortest_machine].append(shortest_job)\n",
    "            M.remove(shortest_machine)\n",
    "            J.remove(shortest_job)\n",
    "            if not M:\n",
    "                M = list(machines)\n",
    "    return execution_plan, job_allocation\n",
    "execution_plan, job_allocation = greedy_schedule(jobs, machines)\n",
    "print(execution_plan)\n",
    "print(job_allocation)\n",
    "\n",
    "def longest_time(execution_plan):\n",
    "    return max(sum(execution_plan[machine]) for machine in execution_plan)\n",
    "\n",
    "print(longest_time(execution_plan))"
   ]
  },
  {
   "cell_type": "markdown",
   "metadata": {},
   "source": [
    "## Calculating Actual for Predicted"
   ]
  },
  {
   "cell_type": "code",
   "execution_count": 183,
   "metadata": {},
   "outputs": [],
   "source": [
    "\n",
    "# # create a dataframe with duration, machine and job name for above\n",
    "# df = pd.DataFrame([(job, machine, duration) for machine, durations in execution_plan.items() for job, duration in zip(job_allocation[machine], durations)], columns=['Job', 'Machine', 'Predicted Duration'])\n",
    "# # print(df)actual=pd.read_csv('greedy_actual_S1.csv',sep='\\t');actual.set_index(\"Unnamed: 0\", inplace=True)\n",
    "# output=df\n",
    "# import warnings\n",
    "# warnings.filterwarnings(\"ignore\")\n",
    "# output[\"Machine\"].replace(\"m1\", \"1T4GPU (M0)\",inplace=True)\n",
    "# output[\"Machine\"].replace(\"m2\", \"2T4GPU (M1)\",inplace=True)\n",
    "# output[\"Machine\"].replace(\"m3\", \"1RTX GPU (M2)\",inplace=True)\n",
    "# output[\"Machine\"].replace(\"m4\", \"2RTX GPU (M3)\",inplace=True)\n",
    "# output[\"Machine\"].replace(\"m5\", \"3RTX GPU (M4)\",inplace=True)\n",
    "# # add a column in output \n",
    "# output[\"Actual Duration\"] = 0\n",
    "# for i in range(len(output)):\n",
    "#     output[\"Actual Duration\"][i] = actual.loc[output[\"Job\"][i], output[\"Machine\"][i]]\n",
    "# output.columns = [\"Job\", \"Predicted Machine\", \"Predicted Duration\", \"Actual Duration\"]\n",
    "# output\n",
    "## group by Machine and sum Duration and Actual Duration\n",
    "# grouped = df.groupby('Predicted Machine').agg({\n",
    "#     'Predicted Duration': 'sum',\n",
    "#     'Actual Duration': 'sum'\n",
    "# }).reset_index()\n",
    "\n",
    "# # Rename columns for clarity\n",
    "# grouped.columns = ['Machine', 'Predicted (Sum)', 'Actual Duration (Sum)']\n",
    "\n",
    "# # Display the result\n",
    "# print(grouped)"
   ]
  },
  {
   "cell_type": "markdown",
   "metadata": {},
   "source": [
    "## Plan Execution\n"
   ]
  },
  {
   "cell_type": "code",
   "execution_count": 42,
   "metadata": {},
   "outputs": [
    {
     "name": "stdout",
     "output_type": "stream",
     "text": [
      "copied scheduling plan on all machines\n",
      "Starting job execution on all machines\n",
      "Jobs on Machine m1: ['ERR018395', 'ERR018482', 'ERR018454']\n",
      "Jobs on Machine m2: ['ERR016316', 'ERR062934', 'ERR023211', 'ERR020276']\n",
      "Jobs on Machine m3: ['SRR799760', 'ERR018475', 'ERR018204']\n",
      "Jobs on Machine m4: ['ERR016294', 'ERR062966', 'ERR019481', 'ERR020241']\n",
      "Jobs on Machine m5: ['ERR062947', 'ERR020157', 'ERR022457', 'ERR020263']\n",
      "Time taken for greedy schedlule workload is:  0.0\n"
     ]
    }
   ],
   "source": [
    "# Input ei - Execution plan for machine mi\n",
    "execution_plan, job_allocation = greedy_schedule(jobs, machines)\n",
    "# for i in range(len(machines)):\n",
    "#     print(f\"Machine {machines[i]}: {execution_plan[machines[i]]}\")\n",
    "#     print(f\"Jobs on Machine {machines[i]}: {job_allocation[machines[i]]}\")\n",
    "start= time.time() \n",
    "# pushing job on machine \n",
    "vms = ['vm1', 'vm2', 'vm3', 'vm4', 'vm5']\n",
    "for i in range(len(machines)):\n",
    "    # ssh vm1 touch jobs.txt\n",
    "    ei = job_allocation[machines[i]]\n",
    "    # ssh vm1 jobs.txt >> ei\n",
    "print(\"copied scheduling plan on all machines\")\n",
    "print(\"Starting job execution on all machines\")\n",
    "for i in range(len(machines)):\n",
    "    # ssh vm1 python3 script.py\n",
    "    print(f\"Jobs on Machine {machines[i]}: {job_allocation[machines[i]]}\")\n",
    "end = time.time()\n",
    "#print time in seconds by round of of 5 decimal places\n",
    "print(\"Time taken for greedy schedlule workload is: \", round(end-start,3))"
   ]
  },
  {
   "cell_type": "code",
   "execution_count": 171,
   "metadata": {},
   "outputs": [
    {
     "name": "stdout",
     "output_type": "stream",
     "text": [
      "SUCCESS\n"
     ]
    }
   ],
   "source": [
    "# SIGNAL function\n",
    "# Input - operation name 'o'\n",
    "o = \"ERR_0_running_M1\"\n",
    "# Output -  Success or Failure\n",
    "filename = \"file-{}\".format(o) # will change the path as per NFS server address\n",
    "f = open(filename, \"w\")\n",
    "\n",
    "# WAIT function\n",
    "import time\n",
    "import fcntl\n",
    "import os\n",
    "\n",
    "def wait_function(o, t):\n",
    "    filename = \"file-{}\".format(o)\n",
    "    while True:\n",
    "        try:\n",
    "            with open(filename, 'r+') as f:\n",
    "                try:\n",
    "                    fcntl.flock(f, fcntl.LOCK_EX | fcntl.LOCK_NB)\n",
    "                    return \"SUCCESS\"\n",
    "                except IOError:\n",
    "                    time.sleep(10)\n",
    "                    continue\n",
    "        except FileNotFoundError:\n",
    "            time.sleep(10)\n",
    "            continue\n",
    "\n",
    "# Example usage\n",
    "o = \"ERR_0_running_M1\"\n",
    "t = 10\n",
    "result = wait_function(o, t)\n",
    "print(result)"
   ]
  }
 ],
 "metadata": {
  "kernelspec": {
   "display_name": "Python 3",
   "language": "python",
   "name": "python3"
  },
  "language_info": {
   "codemirror_mode": {
    "name": "ipython",
    "version": 3
   },
   "file_extension": ".py",
   "mimetype": "text/x-python",
   "name": "python",
   "nbconvert_exporter": "python",
   "pygments_lexer": "ipython3",
   "version": "3.9.6"
  }
 },
 "nbformat": 4,
 "nbformat_minor": 2
}
