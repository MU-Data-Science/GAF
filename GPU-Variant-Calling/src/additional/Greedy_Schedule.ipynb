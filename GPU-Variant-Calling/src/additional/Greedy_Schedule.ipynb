{
 "cells": [
  {
   "cell_type": "code",
   "execution_count": 39,
   "metadata": {},
   "outputs": [
    {
     "data": {
      "text/plain": [
       "{'ERR062973': [843.11, 606.81, 684.5, 572.03, 532.67],\n",
       " 'SRR799760': [798.0, 507.06, 654.84, 446.87, 486.94],\n",
       " 'ERR062924': [885.35, 506.8, 713.05, 505.06, 566.84],\n",
       " 'ERR020264': [3951.83, 2588.02, 3193.0, 2030.16, 2025.54],\n",
       " 'ERR019481': [1935.33, 1265.33, 1614.26, 1160.66, 1097.63],\n",
       " 'ERR020263': [3832.56, 2587.34, 3066.24, 1979.3, 1869.88],\n",
       " 'ERR018507': [859.88, 526.03, 770.89, 540.24, 659.84],\n",
       " 'ERR022370': [850.27, 443.99, 633.52, 413.2, 458.46],\n",
       " 'ERR016316': [659.68, 444.34, 531.93, 410.54, 416.22],\n",
       " 'ERR062953': [1058.8, 692.11, 846.02, 607.36, 568.8],\n",
       " 'ERR020247': [3906.24, 2697.98, 3219.99, 2289.04, 1870.08],\n",
       " 'ERR062940': [991.12, 678.3, 804.9, 607.46, 562.17],\n",
       " 'ERR022393': [1043.8, 628.24, 785.2, 532.93, 544.56],\n",
       " 'ERR016344': [1236.86, 812.76, 978.46, 657.5, 707.43],\n",
       " 'ERR018454': [2576.35, 1846.64, 2199.59, 1594.72, 1424.34],\n",
       " 'ERR018550': [1242.27, 736.89, 1086.89, 708.01, 783.79],\n",
       " 'ERR018198': [2157.87, 1458.45, 1832.41, 1230.57, 1211.96],\n",
       " 'ERR016317': [644.51, 439.54, 525.98, 397.47, 412.09],\n",
       " 'ERR065364': [1612.05, 1136.31, 1354.74, 948.34, 888.37],\n",
       " 'ERR018204': [2162.65, 1498.22, 1852.3, 1375.32, 1345.52],\n",
       " 'ERR022463': [1926.87, 1360.86, 1465.32, 1158.42, 1046.86]}"
      ]
     },
     "execution_count": 39,
     "metadata": {},
     "output_type": "execute_result"
    }
   ],
   "source": [
    "import pandas as pd\n",
    "import numpy as np\n",
    "data=pd.read_csv('greedy_input.csv',sep='\\t')\n",
    "data.head()\n",
    "machines = ['m1','m2','m3','m4','m5']\n",
    "#convert into dictionary with first column as key and rest as values\n",
    "data_dict = data.set_index('Run').T.to_dict('list')\n",
    "data_dict"
   ]
  },
  {
   "cell_type": "code",
   "execution_count": 26,
   "metadata": {},
   "outputs": [],
   "source": [
    "\n",
    "# Example usage - give data here\n",
    "jobs = { # Machines: M1, M2, M3\n",
    "    'ERR016294': [9, 9, 10], #j1\n",
    "    'ERR016314': [6,10,9], #j2\n",
    "    'ERR016316': [11,7,12], #j3\n",
    "}  # Example job durations\n",
    "machines = ['m1', 'm2', 'm3']  # Example machines"
   ]
  },
  {
   "cell_type": "code",
   "execution_count": 28,
   "metadata": {},
   "outputs": [
    {
     "name": "stdout",
     "output_type": "stream",
     "text": [
      "{'m1': [6], 'm2': [7], 'm3': [10], 'm4': [], 'm5': []}\n",
      "10\n"
     ]
    }
   ],
   "source": [
    "def greedy_schedule(jobs, machines):\n",
    "    # Initialize the execution plan for each machine\n",
    "    execution_plan = {machine: [] for machine in machines}\n",
    "    J = list(jobs.keys())\n",
    "    M = list(machines)\n",
    "    \n",
    "    while J:\n",
    "        # Find the shortest job/machine pair\n",
    "        shortest_job = min(J, key=lambda job: min(jobs[job]))\n",
    "        shortest_machine = min(M, key=lambda machine: sum(execution_plan[machine]))\n",
    "        execution_plan[shortest_machine].append(jobs[shortest_job][machines.index(shortest_machine)])\n",
    "        J.remove(shortest_job)\n",
    "        \n",
    "    return execution_plan\n",
    "\n",
    "execution_plan = greedy_schedule(jobs, machines)\n",
    "print(execution_plan)\n",
    "\n",
    "# Calculate longest time on machine - calling function here\n",
    "def longest_time(execution_plan):\n",
    "    return max(sum(execution_plan[machine]) for machine in execution_plan)\n",
    "\n",
    "print(longest_time(execution_plan))"
   ]
  },
  {
   "cell_type": "code",
   "execution_count": null,
   "metadata": {},
   "outputs": [],
   "source": []
  }
 ],
 "metadata": {
  "kernelspec": {
   "display_name": "Python 3",
   "language": "python",
   "name": "python3"
  },
  "language_info": {
   "codemirror_mode": {
    "name": "ipython",
    "version": 3
   },
   "file_extension": ".py",
   "mimetype": "text/x-python",
   "name": "python",
   "nbconvert_exporter": "python",
   "pygments_lexer": "ipython3",
   "version": "3.9.6"
  }
 },
 "nbformat": 4,
 "nbformat_minor": 2
}
